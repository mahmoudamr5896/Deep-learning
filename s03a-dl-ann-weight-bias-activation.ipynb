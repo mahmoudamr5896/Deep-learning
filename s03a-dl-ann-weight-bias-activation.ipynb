{
 "cells": [
  {
   "cell_type": "markdown",
   "id": "317d025b",
   "metadata": {},
   "source": [
    "# ANN BASICS | WEIGHTS, BIASES, ACTIVATION FUNCTIONS"
   ]
  },
  {
   "cell_type": "markdown",
   "id": "a6b0e3d7",
   "metadata": {},
   "source": [
    "## Importing Libraries"
   ]
  },
  {
   "cell_type": "code",
   "execution_count": 1,
   "id": "3247e4ca",
   "metadata": {},
   "outputs": [],
   "source": [
    "import numpy as np\n",
    "import pandas as pd\n",
    "import matplotlib.pyplot as plt\n",
    "import seaborn as sns\n",
    "%matplotlib inline\n",
    "# sns.set()"
   ]
  },
  {
   "cell_type": "code",
   "execution_count": null,
   "id": "a58ce6a9",
   "metadata": {},
   "outputs": [],
   "source": []
  },
  {
   "cell_type": "markdown",
   "id": "0d39699a",
   "metadata": {},
   "source": [
    "=========="
   ]
  },
  {
   "cell_type": "markdown",
   "id": "722671a7",
   "metadata": {},
   "source": [
    "# Bank Customer Churn Prediction | ANNs Basics (Classification Case-study)"
   ]
  },
  {
   "cell_type": "code",
   "execution_count": null,
   "id": "3f351ab6",
   "metadata": {},
   "outputs": [],
   "source": []
  },
  {
   "cell_type": "markdown",
   "id": "46394295",
   "metadata": {},
   "source": [
    "## Data Importing & Inspecting"
   ]
  },
  {
   "cell_type": "code",
   "execution_count": 2,
   "id": "ba802b00",
   "metadata": {},
   "outputs": [
    {
     "data": {
      "text/html": [
       "<div>\n",
       "<style scoped>\n",
       "    .dataframe tbody tr th:only-of-type {\n",
       "        vertical-align: middle;\n",
       "    }\n",
       "\n",
       "    .dataframe tbody tr th {\n",
       "        vertical-align: top;\n",
       "    }\n",
       "\n",
       "    .dataframe thead th {\n",
       "        text-align: right;\n",
       "    }\n",
       "</style>\n",
       "<table border=\"1\" class=\"dataframe\">\n",
       "  <thead>\n",
       "    <tr style=\"text-align: right;\">\n",
       "      <th></th>\n",
       "      <th>RowNumber</th>\n",
       "      <th>CustomerId</th>\n",
       "      <th>Surname</th>\n",
       "      <th>CreditScore</th>\n",
       "      <th>Geography</th>\n",
       "      <th>Gender</th>\n",
       "      <th>Age</th>\n",
       "      <th>Tenure</th>\n",
       "      <th>Balance</th>\n",
       "      <th>NumOfProducts</th>\n",
       "      <th>HasCrCard</th>\n",
       "      <th>IsActiveMember</th>\n",
       "      <th>EstimatedSalary</th>\n",
       "      <th>Exited</th>\n",
       "    </tr>\n",
       "  </thead>\n",
       "  <tbody>\n",
       "    <tr>\n",
       "      <th>0</th>\n",
       "      <td>1</td>\n",
       "      <td>15634602</td>\n",
       "      <td>Hargrave</td>\n",
       "      <td>619</td>\n",
       "      <td>France</td>\n",
       "      <td>Female</td>\n",
       "      <td>42</td>\n",
       "      <td>2</td>\n",
       "      <td>0.00</td>\n",
       "      <td>1</td>\n",
       "      <td>1</td>\n",
       "      <td>1</td>\n",
       "      <td>101348.88</td>\n",
       "      <td>1</td>\n",
       "    </tr>\n",
       "    <tr>\n",
       "      <th>1</th>\n",
       "      <td>2</td>\n",
       "      <td>15647311</td>\n",
       "      <td>Hill</td>\n",
       "      <td>608</td>\n",
       "      <td>Spain</td>\n",
       "      <td>Female</td>\n",
       "      <td>41</td>\n",
       "      <td>1</td>\n",
       "      <td>83807.86</td>\n",
       "      <td>1</td>\n",
       "      <td>0</td>\n",
       "      <td>1</td>\n",
       "      <td>112542.58</td>\n",
       "      <td>0</td>\n",
       "    </tr>\n",
       "    <tr>\n",
       "      <th>2</th>\n",
       "      <td>3</td>\n",
       "      <td>15619304</td>\n",
       "      <td>Onio</td>\n",
       "      <td>502</td>\n",
       "      <td>France</td>\n",
       "      <td>Female</td>\n",
       "      <td>42</td>\n",
       "      <td>8</td>\n",
       "      <td>159660.80</td>\n",
       "      <td>3</td>\n",
       "      <td>1</td>\n",
       "      <td>0</td>\n",
       "      <td>113931.57</td>\n",
       "      <td>1</td>\n",
       "    </tr>\n",
       "    <tr>\n",
       "      <th>3</th>\n",
       "      <td>4</td>\n",
       "      <td>15701354</td>\n",
       "      <td>Boni</td>\n",
       "      <td>699</td>\n",
       "      <td>France</td>\n",
       "      <td>Female</td>\n",
       "      <td>39</td>\n",
       "      <td>1</td>\n",
       "      <td>0.00</td>\n",
       "      <td>2</td>\n",
       "      <td>0</td>\n",
       "      <td>0</td>\n",
       "      <td>93826.63</td>\n",
       "      <td>0</td>\n",
       "    </tr>\n",
       "    <tr>\n",
       "      <th>4</th>\n",
       "      <td>5</td>\n",
       "      <td>15737888</td>\n",
       "      <td>Mitchell</td>\n",
       "      <td>850</td>\n",
       "      <td>Spain</td>\n",
       "      <td>Female</td>\n",
       "      <td>43</td>\n",
       "      <td>2</td>\n",
       "      <td>125510.82</td>\n",
       "      <td>1</td>\n",
       "      <td>1</td>\n",
       "      <td>1</td>\n",
       "      <td>79084.10</td>\n",
       "      <td>0</td>\n",
       "    </tr>\n",
       "    <tr>\n",
       "      <th>...</th>\n",
       "      <td>...</td>\n",
       "      <td>...</td>\n",
       "      <td>...</td>\n",
       "      <td>...</td>\n",
       "      <td>...</td>\n",
       "      <td>...</td>\n",
       "      <td>...</td>\n",
       "      <td>...</td>\n",
       "      <td>...</td>\n",
       "      <td>...</td>\n",
       "      <td>...</td>\n",
       "      <td>...</td>\n",
       "      <td>...</td>\n",
       "      <td>...</td>\n",
       "    </tr>\n",
       "    <tr>\n",
       "      <th>9995</th>\n",
       "      <td>9996</td>\n",
       "      <td>15606229</td>\n",
       "      <td>Obijiaku</td>\n",
       "      <td>771</td>\n",
       "      <td>France</td>\n",
       "      <td>Male</td>\n",
       "      <td>39</td>\n",
       "      <td>5</td>\n",
       "      <td>0.00</td>\n",
       "      <td>2</td>\n",
       "      <td>1</td>\n",
       "      <td>0</td>\n",
       "      <td>96270.64</td>\n",
       "      <td>0</td>\n",
       "    </tr>\n",
       "    <tr>\n",
       "      <th>9996</th>\n",
       "      <td>9997</td>\n",
       "      <td>15569892</td>\n",
       "      <td>Johnstone</td>\n",
       "      <td>516</td>\n",
       "      <td>France</td>\n",
       "      <td>Male</td>\n",
       "      <td>35</td>\n",
       "      <td>10</td>\n",
       "      <td>57369.61</td>\n",
       "      <td>1</td>\n",
       "      <td>1</td>\n",
       "      <td>1</td>\n",
       "      <td>101699.77</td>\n",
       "      <td>0</td>\n",
       "    </tr>\n",
       "    <tr>\n",
       "      <th>9997</th>\n",
       "      <td>9998</td>\n",
       "      <td>15584532</td>\n",
       "      <td>Liu</td>\n",
       "      <td>709</td>\n",
       "      <td>France</td>\n",
       "      <td>Female</td>\n",
       "      <td>36</td>\n",
       "      <td>7</td>\n",
       "      <td>0.00</td>\n",
       "      <td>1</td>\n",
       "      <td>0</td>\n",
       "      <td>1</td>\n",
       "      <td>42085.58</td>\n",
       "      <td>1</td>\n",
       "    </tr>\n",
       "    <tr>\n",
       "      <th>9998</th>\n",
       "      <td>9999</td>\n",
       "      <td>15682355</td>\n",
       "      <td>Sabbatini</td>\n",
       "      <td>772</td>\n",
       "      <td>Germany</td>\n",
       "      <td>Male</td>\n",
       "      <td>42</td>\n",
       "      <td>3</td>\n",
       "      <td>75075.31</td>\n",
       "      <td>2</td>\n",
       "      <td>1</td>\n",
       "      <td>0</td>\n",
       "      <td>92888.52</td>\n",
       "      <td>1</td>\n",
       "    </tr>\n",
       "    <tr>\n",
       "      <th>9999</th>\n",
       "      <td>10000</td>\n",
       "      <td>15628319</td>\n",
       "      <td>Walker</td>\n",
       "      <td>792</td>\n",
       "      <td>France</td>\n",
       "      <td>Female</td>\n",
       "      <td>28</td>\n",
       "      <td>4</td>\n",
       "      <td>130142.79</td>\n",
       "      <td>1</td>\n",
       "      <td>1</td>\n",
       "      <td>0</td>\n",
       "      <td>38190.78</td>\n",
       "      <td>0</td>\n",
       "    </tr>\n",
       "  </tbody>\n",
       "</table>\n",
       "<p>10000 rows × 14 columns</p>\n",
       "</div>"
      ],
      "text/plain": [
       "      RowNumber  CustomerId    Surname  CreditScore Geography  Gender  Age  \\\n",
       "0             1    15634602   Hargrave          619    France  Female   42   \n",
       "1             2    15647311       Hill          608     Spain  Female   41   \n",
       "2             3    15619304       Onio          502    France  Female   42   \n",
       "3             4    15701354       Boni          699    France  Female   39   \n",
       "4             5    15737888   Mitchell          850     Spain  Female   43   \n",
       "...         ...         ...        ...          ...       ...     ...  ...   \n",
       "9995       9996    15606229   Obijiaku          771    France    Male   39   \n",
       "9996       9997    15569892  Johnstone          516    France    Male   35   \n",
       "9997       9998    15584532        Liu          709    France  Female   36   \n",
       "9998       9999    15682355  Sabbatini          772   Germany    Male   42   \n",
       "9999      10000    15628319     Walker          792    France  Female   28   \n",
       "\n",
       "      Tenure    Balance  NumOfProducts  HasCrCard  IsActiveMember  \\\n",
       "0          2       0.00              1          1               1   \n",
       "1          1   83807.86              1          0               1   \n",
       "2          8  159660.80              3          1               0   \n",
       "3          1       0.00              2          0               0   \n",
       "4          2  125510.82              1          1               1   \n",
       "...      ...        ...            ...        ...             ...   \n",
       "9995       5       0.00              2          1               0   \n",
       "9996      10   57369.61              1          1               1   \n",
       "9997       7       0.00              1          0               1   \n",
       "9998       3   75075.31              2          1               0   \n",
       "9999       4  130142.79              1          1               0   \n",
       "\n",
       "      EstimatedSalary  Exited  \n",
       "0           101348.88       1  \n",
       "1           112542.58       0  \n",
       "2           113931.57       1  \n",
       "3            93826.63       0  \n",
       "4            79084.10       0  \n",
       "...               ...     ...  \n",
       "9995         96270.64       0  \n",
       "9996        101699.77       0  \n",
       "9997         42085.58       1  \n",
       "9998         92888.52       1  \n",
       "9999         38190.78       0  \n",
       "\n",
       "[10000 rows x 14 columns]"
      ]
     },
     "execution_count": 2,
     "metadata": {},
     "output_type": "execute_result"
    }
   ],
   "source": [
    "df = pd.read_csv('datasets/Churn_Modelling.csv')\n",
    "df"
   ]
  },
  {
   "cell_type": "code",
   "execution_count": null,
   "id": "1aa9ec16",
   "metadata": {},
   "outputs": [],
   "source": []
  },
  {
   "cell_type": "markdown",
   "id": "d7b1c48d",
   "metadata": {},
   "source": [
    "## Data Preprocessing"
   ]
  },
  {
   "cell_type": "markdown",
   "id": "95cc9009",
   "metadata": {},
   "source": [
    "##### Selecting Data"
   ]
  },
  {
   "cell_type": "code",
   "execution_count": 3,
   "id": "c8e4f554",
   "metadata": {},
   "outputs": [
    {
     "data": {
      "text/plain": [
       "array([[619, 'France', 'Female', ..., 1, 1, 101348.88],\n",
       "       [608, 'Spain', 'Female', ..., 0, 1, 112542.58],\n",
       "       [502, 'France', 'Female', ..., 1, 0, 113931.57],\n",
       "       ...,\n",
       "       [709, 'France', 'Female', ..., 0, 1, 42085.58],\n",
       "       [772, 'Germany', 'Male', ..., 1, 0, 92888.52],\n",
       "       [792, 'France', 'Female', ..., 1, 0, 38190.78]], dtype=object)"
      ]
     },
     "execution_count": 3,
     "metadata": {},
     "output_type": "execute_result"
    }
   ],
   "source": [
    "X = df.iloc[:, 3:-1].values\n",
    "X"
   ]
  },
  {
   "cell_type": "code",
   "execution_count": 4,
   "id": "81e0c2ae",
   "metadata": {},
   "outputs": [
    {
     "data": {
      "text/plain": [
       "array([1, 0, 1, ..., 1, 1, 0], dtype=int64)"
      ]
     },
     "execution_count": 4,
     "metadata": {},
     "output_type": "execute_result"
    }
   ],
   "source": [
    "y = df.iloc[:, -1].values\n",
    "y"
   ]
  },
  {
   "cell_type": "code",
   "execution_count": null,
   "id": "f415ff83",
   "metadata": {},
   "outputs": [],
   "source": []
  },
  {
   "cell_type": "markdown",
   "id": "33285952",
   "metadata": {},
   "source": [
    "##### Encoding Data"
   ]
  },
  {
   "cell_type": "code",
   "execution_count": 5,
   "id": "61ca1110",
   "metadata": {},
   "outputs": [],
   "source": [
    "# Label Encoding the \"Gender\" column\n",
    "from sklearn.preprocessing import LabelEncoder\n",
    "le = LabelEncoder()\n",
    "X[:, 2] = le.fit_transform(X[:, 2])"
   ]
  },
  {
   "cell_type": "code",
   "execution_count": 6,
   "id": "30c167c8",
   "metadata": {},
   "outputs": [
    {
     "data": {
      "text/plain": [
       "array([[619, 'France', 0, ..., 1, 1, 101348.88],\n",
       "       [608, 'Spain', 0, ..., 0, 1, 112542.58],\n",
       "       [502, 'France', 0, ..., 1, 0, 113931.57],\n",
       "       ...,\n",
       "       [709, 'France', 0, ..., 0, 1, 42085.58],\n",
       "       [772, 'Germany', 1, ..., 1, 0, 92888.52],\n",
       "       [792, 'France', 0, ..., 1, 0, 38190.78]], dtype=object)"
      ]
     },
     "execution_count": 6,
     "metadata": {},
     "output_type": "execute_result"
    }
   ],
   "source": [
    "X"
   ]
  },
  {
   "cell_type": "code",
   "execution_count": 7,
   "id": "ccfd45ee",
   "metadata": {},
   "outputs": [],
   "source": [
    "# One Hot Encoding the \"Geography\" column\n",
    "from sklearn.compose import ColumnTransformer\n",
    "from sklearn.preprocessing import OneHotEncoder\n",
    "ct = ColumnTransformer(transformers=[('encoder', OneHotEncoder(), [1])], remainder='passthrough')\n",
    "X = np.array(ct.fit_transform(X))"
   ]
  },
  {
   "cell_type": "code",
   "execution_count": 8,
   "id": "05de4d83",
   "metadata": {},
   "outputs": [
    {
     "data": {
      "text/plain": [
       "array([[1.0, 0.0, 0.0, ..., 1, 1, 101348.88],\n",
       "       [0.0, 0.0, 1.0, ..., 0, 1, 112542.58],\n",
       "       [1.0, 0.0, 0.0, ..., 1, 0, 113931.57],\n",
       "       ...,\n",
       "       [1.0, 0.0, 0.0, ..., 0, 1, 42085.58],\n",
       "       [0.0, 1.0, 0.0, ..., 1, 0, 92888.52],\n",
       "       [1.0, 0.0, 0.0, ..., 1, 0, 38190.78]], dtype=object)"
      ]
     },
     "execution_count": 8,
     "metadata": {},
     "output_type": "execute_result"
    }
   ],
   "source": [
    "X"
   ]
  },
  {
   "cell_type": "code",
   "execution_count": null,
   "id": "63fff4f6",
   "metadata": {},
   "outputs": [],
   "source": []
  },
  {
   "cell_type": "markdown",
   "id": "a437a7e8",
   "metadata": {},
   "source": [
    "##### Splitting Data"
   ]
  },
  {
   "cell_type": "code",
   "execution_count": 9,
   "id": "7d742d59",
   "metadata": {},
   "outputs": [],
   "source": [
    "from sklearn.model_selection import train_test_split\n",
    "X_train, X_test, y_train, y_test = train_test_split(X, y, test_size = 0.2, random_state = 0)"
   ]
  },
  {
   "cell_type": "code",
   "execution_count": null,
   "id": "fd0e2402",
   "metadata": {},
   "outputs": [],
   "source": []
  },
  {
   "cell_type": "markdown",
   "id": "8b1ae4d3",
   "metadata": {},
   "source": [
    "##### Scaling Data"
   ]
  },
  {
   "cell_type": "code",
   "execution_count": 10,
   "id": "c06e0adc",
   "metadata": {},
   "outputs": [],
   "source": [
    "from sklearn.preprocessing import StandardScaler\n",
    "sc = StandardScaler()\n",
    "X_train = sc.fit_transform(X_train)\n",
    "X_test = sc.transform(X_test)"
   ]
  },
  {
   "cell_type": "code",
   "execution_count": null,
   "id": "59034cab",
   "metadata": {},
   "outputs": [],
   "source": []
  },
  {
   "cell_type": "markdown",
   "id": "4b33d77b",
   "metadata": {},
   "source": [
    "## Artificial Neural Network (ANN) Model"
   ]
  },
  {
   "cell_type": "markdown",
   "id": "a0667f8e",
   "metadata": {},
   "source": [
    "TensorFlow Playground: https://playground.tensorflow.org/"
   ]
  },
  {
   "cell_type": "markdown",
   "id": "87c76d4b",
   "metadata": {},
   "source": [
    "##### Model Building "
   ]
  },
  {
   "cell_type": "code",
   "execution_count": 31,
   "id": "7786965d",
   "metadata": {},
   "outputs": [],
   "source": [
    "import tensorflow.keras"
   ]
  },
  {
   "cell_type": "code",
   "execution_count": 50,
   "id": "6ddfa377",
   "metadata": {},
   "outputs": [],
   "source": [
    "from keras.models import Sequential\n",
    "from keras.layers import Dense, LeakyReLU"
   ]
  },
  {
   "cell_type": "code",
   "execution_count": 56,
   "id": "64e0dba6",
   "metadata": {},
   "outputs": [],
   "source": [
    "ann = Sequential()\n",
    "ann.add(Dense(units=50)) # 1st Hidden Layer\n",
    "ann.add(LeakyReLU())\n",
    "ann.add(Dense(units=50)) # 2nd Hidden Layer\n",
    "ann.add(LeakyReLU())\n",
    "ann.add(Dense(units=1, activation='sigmoid')) # Output Layer"
   ]
  },
  {
   "cell_type": "code",
   "execution_count": 57,
   "id": "3fe07723",
   "metadata": {},
   "outputs": [],
   "source": [
    "ann.compile(optimizer = 'adam', loss = 'binary_crossentropy', metrics = ['accuracy'])"
   ]
  },
  {
   "cell_type": "code",
   "execution_count": null,
   "id": "01c65ad7",
   "metadata": {},
   "outputs": [],
   "source": []
  },
  {
   "cell_type": "markdown",
   "id": "ef736a51",
   "metadata": {},
   "source": [
    "##### Model Training "
   ]
  },
  {
   "cell_type": "code",
   "execution_count": 58,
   "id": "f9d925ea",
   "metadata": {},
   "outputs": [
    {
     "name": "stdout",
     "output_type": "stream",
     "text": [
      "Epoch 1/100\n",
      "250/250 [==============================] - 1s 901us/step - loss: 0.4475 - accuracy: 0.8024\n",
      "Epoch 2/100\n",
      "250/250 [==============================] - 0s 928us/step - loss: 0.4006 - accuracy: 0.8329\n",
      "Epoch 3/100\n",
      "250/250 [==============================] - 0s 946us/step - loss: 0.3700 - accuracy: 0.8493\n",
      "Epoch 4/100\n",
      "250/250 [==============================] - 0s 977us/step - loss: 0.3536 - accuracy: 0.8512\n",
      "Epoch 5/100\n",
      "250/250 [==============================] - 0s 961us/step - loss: 0.3479 - accuracy: 0.8547\n",
      "Epoch 6/100\n",
      "250/250 [==============================] - 0s 1ms/step - loss: 0.3446 - accuracy: 0.8587\n",
      "Epoch 7/100\n",
      "250/250 [==============================] - 0s 945us/step - loss: 0.3438 - accuracy: 0.8566\n",
      "Epoch 8/100\n",
      "250/250 [==============================] - 0s 934us/step - loss: 0.3407 - accuracy: 0.8593\n",
      "Epoch 9/100\n",
      "250/250 [==============================] - 0s 1ms/step - loss: 0.3403 - accuracy: 0.8590\n",
      "Epoch 10/100\n",
      "250/250 [==============================] - 0s 952us/step - loss: 0.3364 - accuracy: 0.8594\n",
      "Epoch 11/100\n",
      "250/250 [==============================] - 0s 1ms/step - loss: 0.3362 - accuracy: 0.8612\n",
      "Epoch 12/100\n",
      "250/250 [==============================] - 0s 993us/step - loss: 0.3358 - accuracy: 0.8604\n",
      "Epoch 13/100\n",
      "250/250 [==============================] - 0s 928us/step - loss: 0.3339 - accuracy: 0.8626\n",
      "Epoch 14/100\n",
      "250/250 [==============================] - 0s 957us/step - loss: 0.3348 - accuracy: 0.8608\n",
      "Epoch 15/100\n",
      "250/250 [==============================] - 0s 1ms/step - loss: 0.3329 - accuracy: 0.8621\n",
      "Epoch 16/100\n",
      "250/250 [==============================] - 0s 934us/step - loss: 0.3317 - accuracy: 0.8624\n",
      "Epoch 17/100\n",
      "250/250 [==============================] - 0s 940us/step - loss: 0.3317 - accuracy: 0.8621\n",
      "Epoch 18/100\n",
      "250/250 [==============================] - 0s 1ms/step - loss: 0.3308 - accuracy: 0.8630\n",
      "Epoch 19/100\n",
      "250/250 [==============================] - 0s 865us/step - loss: 0.3279 - accuracy: 0.8649\n",
      "Epoch 20/100\n",
      "250/250 [==============================] - 0s 1ms/step - loss: 0.3297 - accuracy: 0.8627\n",
      "Epoch 21/100\n",
      "250/250 [==============================] - 0s 1ms/step - loss: 0.3292 - accuracy: 0.8655\n",
      "Epoch 22/100\n",
      "250/250 [==============================] - 0s 1ms/step - loss: 0.3288 - accuracy: 0.8627\n",
      "Epoch 23/100\n",
      "250/250 [==============================] - 0s 887us/step - loss: 0.3267 - accuracy: 0.8651\n",
      "Epoch 24/100\n",
      "250/250 [==============================] - 0s 1ms/step - loss: 0.3267 - accuracy: 0.8676\n",
      "Epoch 25/100\n",
      "250/250 [==============================] - 0s 1ms/step - loss: 0.3259 - accuracy: 0.8670\n",
      "Epoch 26/100\n",
      "250/250 [==============================] - 0s 1ms/step - loss: 0.3250 - accuracy: 0.8656\n",
      "Epoch 27/100\n",
      "250/250 [==============================] - 0s 1ms/step - loss: 0.3244 - accuracy: 0.8640\n",
      "Epoch 28/100\n",
      "250/250 [==============================] - 0s 2ms/step - loss: 0.3249 - accuracy: 0.8673\n",
      "Epoch 29/100\n",
      "250/250 [==============================] - 0s 1ms/step - loss: 0.3238 - accuracy: 0.8654\n",
      "Epoch 30/100\n",
      "250/250 [==============================] - 0s 2ms/step - loss: 0.3224 - accuracy: 0.8659\n",
      "Epoch 31/100\n",
      "250/250 [==============================] - 0s 1ms/step - loss: 0.3225 - accuracy: 0.8669\n",
      "Epoch 32/100\n",
      "250/250 [==============================] - 0s 1ms/step - loss: 0.3196 - accuracy: 0.8684\n",
      "Epoch 33/100\n",
      "250/250 [==============================] - 0s 1ms/step - loss: 0.3223 - accuracy: 0.8666\n",
      "Epoch 34/100\n",
      "250/250 [==============================] - 0s 1ms/step - loss: 0.3215 - accuracy: 0.8656\n",
      "Epoch 35/100\n",
      "250/250 [==============================] - 0s 2ms/step - loss: 0.3201 - accuracy: 0.8674\n",
      "Epoch 36/100\n",
      "250/250 [==============================] - 0s 894us/step - loss: 0.3197 - accuracy: 0.8705\n",
      "Epoch 37/100\n",
      "250/250 [==============================] - 0s 1ms/step - loss: 0.3192 - accuracy: 0.8673\n",
      "Epoch 38/100\n",
      "250/250 [==============================] - 0s 783us/step - loss: 0.3185 - accuracy: 0.8665\n",
      "Epoch 39/100\n",
      "250/250 [==============================] - 0s 798us/step - loss: 0.3175 - accuracy: 0.8699\n",
      "Epoch 40/100\n",
      "250/250 [==============================] - 0s 784us/step - loss: 0.3186 - accuracy: 0.8692\n",
      "Epoch 41/100\n",
      "250/250 [==============================] - 0s 811us/step - loss: 0.3168 - accuracy: 0.8686\n",
      "Epoch 42/100\n",
      "250/250 [==============================] - 0s 1ms/step - loss: 0.3168 - accuracy: 0.8677\n",
      "Epoch 43/100\n",
      "250/250 [==============================] - 0s 937us/step - loss: 0.3168 - accuracy: 0.8679\n",
      "Epoch 44/100\n",
      "250/250 [==============================] - 0s 1ms/step - loss: 0.3159 - accuracy: 0.8704\n",
      "Epoch 45/100\n",
      "250/250 [==============================] - 0s 1ms/step - loss: 0.3155 - accuracy: 0.8691\n",
      "Epoch 46/100\n",
      "250/250 [==============================] - 0s 1ms/step - loss: 0.3168 - accuracy: 0.8679\n",
      "Epoch 47/100\n",
      "250/250 [==============================] - 0s 1ms/step - loss: 0.3141 - accuracy: 0.8692\n",
      "Epoch 48/100\n",
      "250/250 [==============================] - 0s 963us/step - loss: 0.3137 - accuracy: 0.8711\n",
      "Epoch 49/100\n",
      "250/250 [==============================] - 0s 2ms/step - loss: 0.3148 - accuracy: 0.8695\n",
      "Epoch 50/100\n",
      "250/250 [==============================] - 0s 1ms/step - loss: 0.3139 - accuracy: 0.8690\n",
      "Epoch 51/100\n",
      "250/250 [==============================] - 0s 1ms/step - loss: 0.3133 - accuracy: 0.8705\n",
      "Epoch 52/100\n",
      "250/250 [==============================] - 0s 1ms/step - loss: 0.3138 - accuracy: 0.8700\n",
      "Epoch 53/100\n",
      "250/250 [==============================] - 0s 1ms/step - loss: 0.3118 - accuracy: 0.8691\n",
      "Epoch 54/100\n",
      "250/250 [==============================] - 0s 1ms/step - loss: 0.3108 - accuracy: 0.8702\n",
      "Epoch 55/100\n",
      "250/250 [==============================] - 0s 2ms/step - loss: 0.3095 - accuracy: 0.8712\n",
      "Epoch 56/100\n",
      "250/250 [==============================] - 1s 2ms/step - loss: 0.3114 - accuracy: 0.8719\n",
      "Epoch 57/100\n",
      "250/250 [==============================] - 0s 1ms/step - loss: 0.3104 - accuracy: 0.8714\n",
      "Epoch 58/100\n",
      "250/250 [==============================] - 0s 2ms/step - loss: 0.3103 - accuracy: 0.8726\n",
      "Epoch 59/100\n",
      "250/250 [==============================] - 0s 2ms/step - loss: 0.3104 - accuracy: 0.8721\n",
      "Epoch 60/100\n",
      "250/250 [==============================] - 0s 2ms/step - loss: 0.3093 - accuracy: 0.8752\n",
      "Epoch 61/100\n",
      "250/250 [==============================] - 0s 983us/step - loss: 0.3109 - accuracy: 0.8702\n",
      "Epoch 62/100\n",
      "250/250 [==============================] - 0s 2ms/step - loss: 0.3089 - accuracy: 0.8725\n",
      "Epoch 63/100\n",
      "250/250 [==============================] - 0s 1ms/step - loss: 0.3076 - accuracy: 0.8715\n",
      "Epoch 64/100\n",
      "250/250 [==============================] - 0s 1ms/step - loss: 0.3068 - accuracy: 0.8735\n",
      "Epoch 65/100\n",
      "250/250 [==============================] - 0s 1ms/step - loss: 0.3076 - accuracy: 0.8731\n",
      "Epoch 66/100\n",
      "250/250 [==============================] - 0s 1ms/step - loss: 0.3059 - accuracy: 0.8714\n",
      "Epoch 67/100\n",
      "250/250 [==============================] - 0s 1ms/step - loss: 0.3070 - accuracy: 0.8712\n",
      "Epoch 68/100\n",
      "250/250 [==============================] - 0s 1ms/step - loss: 0.3054 - accuracy: 0.8724\n",
      "Epoch 69/100\n",
      "250/250 [==============================] - 0s 2ms/step - loss: 0.3065 - accuracy: 0.8733\n",
      "Epoch 70/100\n",
      "250/250 [==============================] - 0s 1ms/step - loss: 0.3037 - accuracy: 0.8741\n",
      "Epoch 71/100\n",
      "250/250 [==============================] - 0s 2ms/step - loss: 0.3050 - accuracy: 0.8742\n",
      "Epoch 72/100\n",
      "250/250 [==============================] - 0s 1ms/step - loss: 0.3059 - accuracy: 0.8736\n",
      "Epoch 73/100\n",
      "250/250 [==============================] - 0s 1ms/step - loss: 0.3042 - accuracy: 0.8719\n",
      "Epoch 74/100\n",
      "250/250 [==============================] - 0s 1ms/step - loss: 0.3028 - accuracy: 0.8739\n",
      "Epoch 75/100\n",
      "250/250 [==============================] - 0s 1ms/step - loss: 0.3048 - accuracy: 0.8710\n",
      "Epoch 76/100\n",
      "250/250 [==============================] - 0s 1ms/step - loss: 0.3035 - accuracy: 0.8748\n",
      "Epoch 77/100\n",
      "250/250 [==============================] - 0s 2ms/step - loss: 0.3034 - accuracy: 0.8733\n",
      "Epoch 78/100\n",
      "250/250 [==============================] - 0s 2ms/step - loss: 0.3025 - accuracy: 0.8724\n",
      "Epoch 79/100\n",
      "250/250 [==============================] - 0s 972us/step - loss: 0.3037 - accuracy: 0.8745\n",
      "Epoch 80/100\n"
     ]
    },
    {
     "name": "stdout",
     "output_type": "stream",
     "text": [
      "250/250 [==============================] - 0s 889us/step - loss: 0.3016 - accuracy: 0.8755\n",
      "Epoch 81/100\n",
      "250/250 [==============================] - 0s 961us/step - loss: 0.3009 - accuracy: 0.8735\n",
      "Epoch 82/100\n",
      "250/250 [==============================] - 0s 968us/step - loss: 0.3025 - accuracy: 0.8730\n",
      "Epoch 83/100\n",
      "250/250 [==============================] - 0s 872us/step - loss: 0.3025 - accuracy: 0.8712\n",
      "Epoch 84/100\n",
      "250/250 [==============================] - 0s 1ms/step - loss: 0.3030 - accuracy: 0.8754\n",
      "Epoch 85/100\n",
      "250/250 [==============================] - 0s 2ms/step - loss: 0.2994 - accuracy: 0.8746\n",
      "Epoch 86/100\n",
      "250/250 [==============================] - 0s 948us/step - loss: 0.2974 - accuracy: 0.8767\n",
      "Epoch 87/100\n",
      "250/250 [==============================] - 0s 869us/step - loss: 0.3006 - accuracy: 0.8733\n",
      "Epoch 88/100\n",
      "250/250 [==============================] - 0s 2ms/step - loss: 0.2981 - accuracy: 0.8734\n",
      "Epoch 89/100\n",
      "250/250 [==============================] - 0s 989us/step - loss: 0.2968 - accuracy: 0.8763\n",
      "Epoch 90/100\n",
      "250/250 [==============================] - 0s 1ms/step - loss: 0.3000 - accuracy: 0.8761\n",
      "Epoch 91/100\n",
      "250/250 [==============================] - 0s 2ms/step - loss: 0.2967 - accuracy: 0.8752\n",
      "Epoch 92/100\n",
      "250/250 [==============================] - 0s 882us/step - loss: 0.2987 - accuracy: 0.8756\n",
      "Epoch 93/100\n",
      "250/250 [==============================] - 0s 949us/step - loss: 0.2976 - accuracy: 0.8767\n",
      "Epoch 94/100\n",
      "250/250 [==============================] - 0s 1ms/step - loss: 0.2962 - accuracy: 0.8745\n",
      "Epoch 95/100\n",
      "250/250 [==============================] - 0s 1ms/step - loss: 0.2958 - accuracy: 0.8767\n",
      "Epoch 96/100\n",
      "250/250 [==============================] - 0s 948us/step - loss: 0.2961 - accuracy: 0.8765\n",
      "Epoch 97/100\n",
      "250/250 [==============================] - 0s 1ms/step - loss: 0.2969 - accuracy: 0.8767\n",
      "Epoch 98/100\n",
      "250/250 [==============================] - 0s 2ms/step - loss: 0.2956 - accuracy: 0.8766\n",
      "Epoch 99/100\n",
      "250/250 [==============================] - 0s 892us/step - loss: 0.2953 - accuracy: 0.8770\n",
      "Epoch 100/100\n",
      "250/250 [==============================] - 0s 2ms/step - loss: 0.2956 - accuracy: 0.8767\n"
     ]
    },
    {
     "data": {
      "text/plain": [
       "<keras.callbacks.History at 0x218e6ee7c70>"
      ]
     },
     "execution_count": 58,
     "metadata": {},
     "output_type": "execute_result"
    }
   ],
   "source": [
    "ann.fit(X_train, y_train, batch_size = 32, epochs = 100)"
   ]
  },
  {
   "cell_type": "code",
   "execution_count": null,
   "id": "344f9a6c",
   "metadata": {},
   "outputs": [],
   "source": []
  },
  {
   "cell_type": "markdown",
   "id": "2acda4af",
   "metadata": {},
   "source": [
    "##### Model Prediction"
   ]
  },
  {
   "cell_type": "code",
   "execution_count": 16,
   "id": "78dccaae",
   "metadata": {},
   "outputs": [
    {
     "name": "stdout",
     "output_type": "stream",
     "text": [
      "1/1 [==============================] - 0s 87ms/step\n"
     ]
    },
    {
     "data": {
      "text/plain": [
       "array([[0.02248495]], dtype=float32)"
      ]
     },
     "execution_count": 16,
     "metadata": {},
     "output_type": "execute_result"
    }
   ],
   "source": [
    "ann.predict(sc.transform([[1, 0, 0, 600, 1, 40, 3, 60000, 2, 1, 1, 50000]]))"
   ]
  },
  {
   "cell_type": "code",
   "execution_count": 17,
   "id": "7cdb7dfa",
   "metadata": {},
   "outputs": [
    {
     "name": "stdout",
     "output_type": "stream",
     "text": [
      "1/1 [==============================] - 0s 15ms/step\n",
      "[[False]]\n"
     ]
    }
   ],
   "source": [
    "print(ann.predict(sc.transform([[1, 0, 0, 600, 1, 40, 3, 60000, 2, 1, 1, 50000]])) >= 0.5)"
   ]
  },
  {
   "cell_type": "code",
   "execution_count": 29,
   "id": "56fdf31d",
   "metadata": {},
   "outputs": [
    {
     "name": "stdout",
     "output_type": "stream",
     "text": [
      "63/63 [==============================] - 0s 740us/step\n",
      "[[0 0]\n",
      " [0 1]\n",
      " [0 0]\n",
      " ...\n",
      " [0 0]\n",
      " [0 0]\n",
      " [0 0]]\n"
     ]
    }
   ],
   "source": [
    "y_pred = ann.predict(X_test)\n",
    "y_pred = (y_pred > 0.5)\n",
    "print(np.concatenate((y_pred.reshape(len(y_pred),1), y_test.reshape(len(y_test),1)),1))"
   ]
  },
  {
   "cell_type": "code",
   "execution_count": null,
   "id": "b01cf5c2",
   "metadata": {},
   "outputs": [],
   "source": []
  },
  {
   "cell_type": "markdown",
   "id": "447a8f2f",
   "metadata": {},
   "source": [
    "##### Model Evaluation "
   ]
  },
  {
   "cell_type": "code",
   "execution_count": 37,
   "id": "69d3cd6c",
   "metadata": {},
   "outputs": [
    {
     "data": {
      "text/plain": [
       "dict_keys(['loss', 'accuracy'])"
      ]
     },
     "execution_count": 37,
     "metadata": {},
     "output_type": "execute_result"
    }
   ],
   "source": [
    "ann.history.history.keys()"
   ]
  },
  {
   "cell_type": "code",
   "execution_count": 38,
   "id": "bace3ad5",
   "metadata": {},
   "outputs": [
    {
     "data": {
      "text/plain": [
       "{'loss': [0.38969686627388,\n",
       "  0.38516825437545776,\n",
       "  0.38149020075798035,\n",
       "  0.3780178129673004,\n",
       "  0.3752245604991913,\n",
       "  0.37205377221107483,\n",
       "  0.36939144134521484,\n",
       "  0.3665560781955719,\n",
       "  0.36444932222366333,\n",
       "  0.36235541105270386,\n",
       "  0.36052489280700684,\n",
       "  0.3586534559726715,\n",
       "  0.35746705532073975,\n",
       "  0.35629069805145264,\n",
       "  0.3552294373512268,\n",
       "  0.3540727496147156,\n",
       "  0.35303547978401184,\n",
       "  0.35275810956954956,\n",
       "  0.35192984342575073,\n",
       "  0.35108381509780884,\n",
       "  0.35031959414482117,\n",
       "  0.35003265738487244,\n",
       "  0.34963440895080566,\n",
       "  0.34871071577072144,\n",
       "  0.3481709659099579,\n",
       "  0.3479345738887787,\n",
       "  0.3476966619491577,\n",
       "  0.3466971218585968,\n",
       "  0.346949964761734,\n",
       "  0.3464359939098358,\n",
       "  0.34636789560317993,\n",
       "  0.3459649682044983,\n",
       "  0.3449617326259613,\n",
       "  0.3453439474105835,\n",
       "  0.34490111470222473,\n",
       "  0.344728022813797,\n",
       "  0.3437706530094147,\n",
       "  0.34403032064437866,\n",
       "  0.3437080383300781,\n",
       "  0.34326884150505066,\n",
       "  0.34316515922546387,\n",
       "  0.3429049551486969,\n",
       "  0.3426232635974884,\n",
       "  0.3429255783557892,\n",
       "  0.3429619073867798,\n",
       "  0.34249716997146606,\n",
       "  0.3418414294719696,\n",
       "  0.3416937291622162,\n",
       "  0.3421521484851837,\n",
       "  0.34140560030937195,\n",
       "  0.34155622124671936,\n",
       "  0.3409025967121124,\n",
       "  0.3411976993083954,\n",
       "  0.3411233127117157,\n",
       "  0.3408885598182678,\n",
       "  0.3402506709098816,\n",
       "  0.34081628918647766,\n",
       "  0.34041228890419006,\n",
       "  0.34027111530303955,\n",
       "  0.34039363265037537,\n",
       "  0.34046316146850586,\n",
       "  0.3394067585468292,\n",
       "  0.33999747037887573,\n",
       "  0.339325487613678,\n",
       "  0.3390846848487854,\n",
       "  0.3393063247203827,\n",
       "  0.33870628476142883,\n",
       "  0.33864909410476685,\n",
       "  0.3389897644519806,\n",
       "  0.33928385376930237,\n",
       "  0.3385196924209595,\n",
       "  0.33793503046035767,\n",
       "  0.3384498059749603,\n",
       "  0.33835989236831665,\n",
       "  0.3380003273487091,\n",
       "  0.33835116028785706,\n",
       "  0.33743807673454285,\n",
       "  0.33815672993659973,\n",
       "  0.3379954397678375,\n",
       "  0.337201863527298,\n",
       "  0.3364936411380768,\n",
       "  0.33745184540748596,\n",
       "  0.33721375465393066,\n",
       "  0.3373410403728485,\n",
       "  0.3369189202785492,\n",
       "  0.3365434408187866,\n",
       "  0.3363178074359894,\n",
       "  0.3357734978199005,\n",
       "  0.33568888902664185,\n",
       "  0.3360070586204529,\n",
       "  0.33587905764579773,\n",
       "  0.335636168718338,\n",
       "  0.33540934324264526,\n",
       "  0.3355165719985962,\n",
       "  0.3354775309562683,\n",
       "  0.33513033390045166,\n",
       "  0.33565428853034973,\n",
       "  0.3349771499633789,\n",
       "  0.3352218568325043,\n",
       "  0.3354598581790924],\n",
       " 'accuracy': [0.20399999618530273,\n",
       "  0.20399999618530273,\n",
       "  0.20399999618530273,\n",
       "  0.20399999618530273,\n",
       "  0.20399999618530273,\n",
       "  0.20399999618530273,\n",
       "  0.20399999618530273,\n",
       "  0.20399999618530273,\n",
       "  0.20399999618530273,\n",
       "  0.20399999618530273,\n",
       "  0.20399999618530273,\n",
       "  0.20399999618530273,\n",
       "  0.20399999618530273,\n",
       "  0.20399999618530273,\n",
       "  0.20399999618530273,\n",
       "  0.20399999618530273,\n",
       "  0.20399999618530273,\n",
       "  0.20399999618530273,\n",
       "  0.20399999618530273,\n",
       "  0.20399999618530273,\n",
       "  0.20399999618530273,\n",
       "  0.20399999618530273,\n",
       "  0.20399999618530273,\n",
       "  0.20399999618530273,\n",
       "  0.20399999618530273,\n",
       "  0.20399999618530273,\n",
       "  0.20399999618530273,\n",
       "  0.20399999618530273,\n",
       "  0.20399999618530273,\n",
       "  0.20399999618530273,\n",
       "  0.20399999618530273,\n",
       "  0.20399999618530273,\n",
       "  0.20399999618530273,\n",
       "  0.20399999618530273,\n",
       "  0.20399999618530273,\n",
       "  0.20399999618530273,\n",
       "  0.20399999618530273,\n",
       "  0.20399999618530273,\n",
       "  0.20399999618530273,\n",
       "  0.20399999618530273,\n",
       "  0.20399999618530273,\n",
       "  0.20399999618530273,\n",
       "  0.20399999618530273,\n",
       "  0.20399999618530273,\n",
       "  0.20399999618530273,\n",
       "  0.20399999618530273,\n",
       "  0.20399999618530273,\n",
       "  0.20399999618530273,\n",
       "  0.20399999618530273,\n",
       "  0.20399999618530273,\n",
       "  0.20399999618530273,\n",
       "  0.20399999618530273,\n",
       "  0.20399999618530273,\n",
       "  0.20399999618530273,\n",
       "  0.20399999618530273,\n",
       "  0.20399999618530273,\n",
       "  0.20399999618530273,\n",
       "  0.20399999618530273,\n",
       "  0.20399999618530273,\n",
       "  0.20399999618530273,\n",
       "  0.20399999618530273,\n",
       "  0.20399999618530273,\n",
       "  0.20399999618530273,\n",
       "  0.20399999618530273,\n",
       "  0.20399999618530273,\n",
       "  0.20399999618530273,\n",
       "  0.20399999618530273,\n",
       "  0.20399999618530273,\n",
       "  0.20399999618530273,\n",
       "  0.20399999618530273,\n",
       "  0.20399999618530273,\n",
       "  0.20399999618530273,\n",
       "  0.20399999618530273,\n",
       "  0.20399999618530273,\n",
       "  0.20399999618530273,\n",
       "  0.20399999618530273,\n",
       "  0.20399999618530273,\n",
       "  0.20399999618530273,\n",
       "  0.20399999618530273,\n",
       "  0.20399999618530273,\n",
       "  0.20399999618530273,\n",
       "  0.20399999618530273,\n",
       "  0.20399999618530273,\n",
       "  0.20399999618530273,\n",
       "  0.20399999618530273,\n",
       "  0.20399999618530273,\n",
       "  0.20399999618530273,\n",
       "  0.20399999618530273,\n",
       "  0.20399999618530273,\n",
       "  0.20399999618530273,\n",
       "  0.20399999618530273,\n",
       "  0.20399999618530273,\n",
       "  0.20399999618530273,\n",
       "  0.20399999618530273,\n",
       "  0.20399999618530273,\n",
       "  0.20399999618530273,\n",
       "  0.20399999618530273,\n",
       "  0.20399999618530273,\n",
       "  0.20399999618530273,\n",
       "  0.20399999618530273]}"
      ]
     },
     "execution_count": 38,
     "metadata": {},
     "output_type": "execute_result"
    }
   ],
   "source": [
    "ann.history.history"
   ]
  },
  {
   "cell_type": "code",
   "execution_count": 39,
   "id": "d98e28f8",
   "metadata": {},
   "outputs": [
    {
     "data": {
      "text/plain": [
       "<AxesSubplot:>"
      ]
     },
     "execution_count": 39,
     "metadata": {},
     "output_type": "execute_result"
    },
    {
     "data": {
      "image/png": "[encoded data removed]",
      "text/plain": [
       "<Figure size 432x288 with 1 Axes>"
      ]
     },
     "metadata": {
      "needs_background": "light"
     },
     "output_type": "display_data"
    }
   ],
   "source": [
    "pd.DataFrame(ann.history.history).plot()"
   ]
  },
  {
   "cell_type": "code",
   "execution_count": 40,
   "id": "1b5a1b9c",
   "metadata": {},
   "outputs": [
    {
     "name": "stdout",
     "output_type": "stream",
     "text": [
      "[[1529   66]\n",
      " [ 205  200]]\n"
     ]
    },
    {
     "data": {
      "text/plain": [
       "0.8645"
      ]
     },
     "execution_count": 40,
     "metadata": {},
     "output_type": "execute_result"
    }
   ],
   "source": [
    "from sklearn.metrics import confusion_matrix, accuracy_score\n",
    "cm = confusion_matrix(y_test, y_pred)\n",
    "print(cm)\n",
    "accuracy_score(y_test, y_pred)"
   ]
  },
  {
   "cell_type": "code",
   "execution_count": null,
   "id": "f614b3ff",
   "metadata": {},
   "outputs": [],
   "source": []
  },
  {
   "cell_type": "markdown",
   "id": "ad000f70",
   "metadata": {},
   "source": [
    "##### Model Saving "
   ]
  },
  {
   "cell_type": "code",
   "execution_count": null,
   "id": "e35d9d01",
   "metadata": {},
   "outputs": [],
   "source": [
    "ann.save('churn.h5')"
   ]
  },
  {
   "cell_type": "code",
   "execution_count": null,
   "id": "04923ad7",
   "metadata": {},
   "outputs": [],
   "source": [
    "from keras.models import load_model\n",
    "model = load_model('churn.h5')"
   ]
  },
  {
   "cell_type": "code",
   "execution_count": null,
   "id": "781ee8f6",
   "metadata": {},
   "outputs": [],
   "source": [
    "print(model.predict(sc.transform([[1, 0, 0, 600, 1, 40, 3, 60000, 2, 1, 1, 50000]])) > 0.5)"
   ]
  },
  {
   "cell_type": "code",
   "execution_count": null,
   "id": "1877496b",
   "metadata": {},
   "outputs": [],
   "source": []
  },
  {
   "cell_type": "markdown",
   "id": "9898a3dd",
   "metadata": {},
   "source": [
    "=========="
   ]
  },
  {
   "cell_type": "markdown",
   "id": "c35aedc1",
   "metadata": {},
   "source": [
    "# THANK YOU!"
   ]
  }
 ],
 "metadata": {
  "kernelspec": {
   "display_name": "Python 3 (ipykernel)",
   "language": "python",
   "name": "python3"
  },
  "language_info": {
   "codemirror_mode": {
    "name": "ipython",
    "version": 3
   },
   "file_extension": ".py",
   "mimetype": "text/x-python",
   "name": "python",
   "nbconvert_exporter": "python",
   "pygments_lexer": "ipython3",
   "version": "3.9.7"
  }
 },
 "nbformat": 4,
 "nbformat_minor": 5
}
